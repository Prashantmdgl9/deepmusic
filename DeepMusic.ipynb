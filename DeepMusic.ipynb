{
 "cells": [
  {
   "cell_type": "code",
   "execution_count": 1,
   "id": "5f659a00",
   "metadata": {},
   "outputs": [],
   "source": [
    "from deepmusic import DeepMusic"
   ]
  },
  {
   "cell_type": "code",
   "execution_count": 2,
   "id": "41ef1a0a",
   "metadata": {},
   "outputs": [],
   "source": [
    "from deepmusic import show_styles"
   ]
  },
  {
   "cell_type": "code",
   "execution_count": 3,
   "id": "be8614d2",
   "metadata": {},
   "outputs": [
    {
     "name": "stdout",
     "output_type": "stream",
     "text": [
      "vases\n",
      "car (config-e)\n",
      "my little pony\n",
      "beetles\n",
      "faces (ffhq config-e)\n",
      "anime portraits\n",
      "cifar 10\n",
      "floor plans\n",
      "wildlife\n",
      "ffhq faces\n",
      "car (config-f)\n",
      "flowers\n",
      "lsun bedrooms\n",
      "anime faces\n",
      "faces (ffhq config-f)\n",
      "lsun cats\n",
      "fireworks\n",
      "more abstract art\n",
      "imagenet\n",
      "pokemon\n",
      "trypophobia\n",
      "painting faces\n",
      "church\n",
      "lsun cars\n",
      "panda\n",
      "ukiyoe faces\n",
      "faces (ffhq config-f 512x512)\n",
      "wikiart\n",
      "grumpy cat\n",
      "cakes\n",
      "cat\n",
      "maps\n",
      "faces (ffhq slim 256x256)\n",
      "textures\n",
      "figure drawings\n",
      "abstract photos\n",
      "obama\n",
      "wikiart faces\n",
      "modern art\n",
      "cifar 100\n",
      "abstract art\n",
      "microscope images\n",
      "fursona\n",
      "doors\n",
      "faces (ffhq config-e 256x256)\n",
      "ukiyo-e faces\n",
      "horse\n",
      "celeba hq faces\n",
      "butterflies\n"
     ]
    }
   ],
   "source": [
    "show_styles()"
   ]
  },
  {
   "cell_type": "code",
   "execution_count": 4,
   "id": "d601e129",
   "metadata": {},
   "outputs": [
    {
     "name": "stdout",
     "output_type": "stream",
     "text": [
      "/Users/prashantmudgal/anaconda3/envs/env_4/lib/python3.9/site-packages/gdown/cli.py:127: FutureWarning: Option `--id` was deprecated in version 4.3.1 and will be removed in 5.0. You don't need to pass it anymore to use a file ID.\n",
      "  warnings.warn(\n",
      "Downloading...\n",
      "From: https://drive.google.com/uc?id=1rrRL7Xe8Lm-g9LaluMhIOTZncHkBRv2C\n",
      "To: /Users/prashantmudgal/deepmusic/Sansa_2.mp3\n",
      "100%|██████████████████████████████████████| 5.37M/5.37M [00:00<00:00, 6.87MB/s]\n"
     ]
    }
   ],
   "source": [
    "! gdown --id 1rrRL7Xe8Lm-g9LaluMhIOTZncHkBRv2C"
   ]
  },
  {
   "cell_type": "code",
   "execution_count": 5,
   "id": "829c8ec3",
   "metadata": {},
   "outputs": [],
   "source": [
    "deepM = DeepMusic(song = 'Eternite.mp3',\n",
    "                    style = 'modern art')"
   ]
  },
  {
   "cell_type": "code",
   "execution_count": 8,
   "id": "f15561de",
   "metadata": {},
   "outputs": [
    {
     "name": "stdout",
     "output_type": "stream",
     "text": [
      "Preparing style...\n",
      "Downloading modern art weights (This may take a while)...\n",
      "Download complete\n",
      "Loading networks from modern art.pkl...\n",
      "Preparing audio...\n",
      "Loading effects...\n",
      "Number of model classes:  0\n",
      "\n",
      "Doing math...\n",
      "\n",
      "\n",
      "Dreaming... \n",
      "\n"
     ]
    },
    {
     "name": "stderr",
     "output_type": "stream",
     "text": [
      "100%|█████████████████████████████████████████| 301/301 [14:04<00:00,  2.80s/it]\n"
     ]
    },
    {
     "name": "stdout",
     "output_type": "stream",
     "text": [
      "\n",
      "Generating movie...\n",
      "\n"
     ]
    },
    {
     "name": "stderr",
     "output_type": "stream",
     "text": [
      "IMAGEIO FFMPEG_WRITER WARNING: input image is not divisible by macro_block_size=16, resizing from (360, 360) to (368, 368) to ensure video compatibility with most codecs and players. To prevent resizing, make your input image divisible by the macro_block_size or set the macro_block_size to 1 (risking incompatibility).\n",
      "[swscaler @ 0x7fbd349a9000] Warning: data is not aligned! This can lead to a speed loss\n"
     ]
    },
    {
     "name": "stdout",
     "output_type": "stream",
     "text": [
      "Moviepy - Building video Eternite.mp4.\n",
      "MoviePy - Writing audio in EterniteTEMP_MPY_wvf_snd.mp4\n"
     ]
    },
    {
     "name": "stderr",
     "output_type": "stream",
     "text": [
      "                                                                                \r"
     ]
    },
    {
     "name": "stdout",
     "output_type": "stream",
     "text": [
      "MoviePy - Done.\n",
      "Moviepy - Writing video Eternite.mp4\n",
      "\n"
     ]
    },
    {
     "name": "stderr",
     "output_type": "stream",
     "text": [
      "                                                                                \r"
     ]
    },
    {
     "name": "stdout",
     "output_type": "stream",
     "text": [
      "Moviepy - Done !\n",
      "Moviepy - video ready Eternite.mp4\n"
     ]
    }
   ],
   "source": [
    "\n",
    "deepM.dream(file_name = 'Eternite.mp4',\n",
    "              resolution = 360,\n",
    "              duration = 10, \n",
    "              start = 50,\n",
    "              motion_react = 0.3,\n",
    "              contrast_strength = 0.1,\n",
    "              motion_percussive = True,\n",
    "              flash_strength = 0.5)\n"
   ]
  },
  {
   "cell_type": "code",
   "execution_count": null,
   "id": "90bd4508",
   "metadata": {},
   "outputs": [],
   "source": []
  }
 ],
 "metadata": {
  "kernelspec": {
   "display_name": "env_4",
   "language": "python",
   "name": "env_4"
  },
  "language_info": {
   "codemirror_mode": {
    "name": "ipython",
    "version": 3
   },
   "file_extension": ".py",
   "mimetype": "text/x-python",
   "name": "python",
   "nbconvert_exporter": "python",
   "pygments_lexer": "ipython3",
   "version": "3.9.13"
  }
 },
 "nbformat": 4,
 "nbformat_minor": 5
}
